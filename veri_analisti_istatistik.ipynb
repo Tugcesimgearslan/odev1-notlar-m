{
 "cells": [
  {
   "cell_type": "markdown",
   "id": "b85dbd23",
   "metadata": {},
   "source": [
    "# Veri Analistinin Bilmesi Gereken Temel İstatistik ve Olasılık Bilgileri"
   ]
  },
  {
   "cell_type": "markdown",
   "id": "7fef4bd4",
   "metadata": {},
   "source": [
    "## 1. Tanımlayıcı İstatistikler (Descriptive Statistics)\n",
    "- Ortalama (Mean)\n",
    "- Ortanca (Median)\n",
    "- Mod (Mode)\n",
    "- Varyans ve Standart Sapma\n",
    "- Minimum, Maksimum, Aralık"
   ]
  },
  {
   "cell_type": "code",
   "execution_count": null,
   "id": "dbb2a564",
   "metadata": {},
   "outputs": [],
   "source": [
    "import numpy as np\n",
    "import pandas as pd\n",
    "\n",
    "data = [10, 20, 20, 30, 40, 100]\n",
    "print(\"Ortalama:\", np.mean(data))\n",
    "print(\"Ortanca:\", np.median(data))\n",
    "print(\"Mod:\", pd.Series(data).mode()[0])\n",
    "print(\"Standart Sapma:\", np.std(data, ddof=1))"
   ]
  },
  {
   "cell_type": "markdown",
   "id": "ec2ab97b",
   "metadata": {},
   "source": [
    "## 2. Olasılık (Probability)\n",
    "- Temel kavramlar: deney, olay, örnek uzay\n",
    "- Koşullu olasılık\n",
    "- Bayes Teoremi"
   ]
  },
  {
   "cell_type": "code",
   "execution_count": null,
   "id": "1dd034cb",
   "metadata": {},
   "outputs": [],
   "source": [
    "# Koşullu olasılık: P(A|B) = P(A ve B) / P(B)\n",
    "p_a_and_b = 0.1\n",
    "p_b = 0.4\n",
    "print(\"P(A|B):\", p_a_and_b / p_b)"
   ]
  },
  {
   "cell_type": "markdown",
   "id": "9de4037e",
   "metadata": {},
   "source": [
    "## 3. Olasılık Dağılımları (Probability Distributions)\n",
    "- Normal Dağılım\n",
    "- Binom Dağılımı\n",
    "- Poisson Dağılımı"
   ]
  },
  {
   "cell_type": "code",
   "execution_count": null,
   "id": "e35f1a18",
   "metadata": {},
   "outputs": [],
   "source": [
    "import seaborn as sns\n",
    "import matplotlib.pyplot as plt\n",
    "\n",
    "sns.histplot(np.random.normal(0, 1, 1000), kde=True)\n",
    "plt.title(\"Normal Dağılım\")\n",
    "plt.show()"
   ]
  },
  {
   "cell_type": "markdown",
   "id": "680775b3",
   "metadata": {},
   "source": [
    "## 4. Hipotez Testleri (Hypothesis Testing)\n",
    "- Null ve Alternatif Hipotez\n",
    "- p-değeri yorumu"
   ]
  },
  {
   "cell_type": "code",
   "execution_count": null,
   "id": "9a064ab3",
   "metadata": {},
   "outputs": [],
   "source": [
    "from scipy.stats import ttest_ind\n",
    "\n",
    "gr1 = [100, 102, 98, 101]\n",
    "gr2 = [110, 112, 115, 108]\n",
    "stat, p = ttest_ind(gr1, gr2)\n",
    "print(\"P-değeri:\", p)"
   ]
  },
  {
   "cell_type": "markdown",
   "id": "ffbbc2cd",
   "metadata": {},
   "source": [
    "## 5. Korelasyon ve Regresyon\n",
    "- Korelasyon Katsayısı\n",
    "- Doğrusal Regresyon"
   ]
  },
  {
   "cell_type": "code",
   "execution_count": null,
   "id": "7fe344d0",
   "metadata": {},
   "outputs": [],
   "source": [
    "import statsmodels.api as sm\n",
    "\n",
    "X = sm.add_constant(df[\"x\"])\n",
    "model = sm.OLS(df[\"y\"], X).fit()\n",
    "print(model.summary())"
   ]
  },
  {
   "cell_type": "code",
   "execution_count": null,
   "id": "c64dcfd4",
   "metadata": {},
   "outputs": [],
   "source": [
    "df = pd.DataFrame({\"x\": [1, 2, 3, 4, 5], \"y\": [2, 4, 5, 4, 5]})"
   ]
  },
  {
   "cell_type": "markdown",
   "id": "d979e52c",
   "metadata": {},
   "source": [
    "## 6. Veri Temizleme (Data Cleaning)\n",
    "- Eksik veriler\n",
    "- Aykırı değerler\n",
    "- Dönüştürme işlemleri"
   ]
  },
  {
   "cell_type": "code",
   "execution_count": null,
   "id": "d20f4d40",
   "metadata": {},
   "outputs": [],
   "source": [
    "df = pd.DataFrame({\"a\": [1, None, 3], \"b\": [4, 5, None]})\n",
    "df.fillna(df.mean(), inplace=True)\n",
    "df"
   ]
  },
  {
   "cell_type": "markdown",
   "id": "0413239a",
   "metadata": {},
   "source": [
    "## Kaynaklar\n",
    "1. Bruce, Peter; Bruce, Andrew. *Practical Statistics for Data Scientists*\n",
    "2. Miller, James D. *Statistics for Data Science*\n",
    "3. Khan Academy – Statistics and Probability\n",
    "4. StatQuest – Josh Starmer YouTube"
   ]
  }
 ],
 "metadata": {},
 "nbformat": 4,
 "nbformat_minor": 5
}